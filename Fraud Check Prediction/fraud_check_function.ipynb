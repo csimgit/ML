{
 "cells": [
  {
   "cell_type": "code",
   "execution_count": 2,
   "id": "e258b174",
   "metadata": {},
   "outputs": [
    {
     "name": "stdout",
     "output_type": "stream",
     "text": [
      "CPU times: total: 0 ns\n",
      "Wall time: 0 ns\n"
     ]
    }
   ],
   "source": [
    "%%time\n",
    "## Importing the libraries\n",
    "import pandas as pd\n",
    "import numpy as np\n",
    "import seaborn as sns\n",
    "from matplotlib import pyplot as plt\n",
    "import time\n",
    "from sklearn.model_selection import train_test_split\n",
    "from sklearn.ensemble import RandomForestClassifier\n",
    "from sklearn.metrics import accuracy_score, confusion_matrix, classification_report,precision_score\n",
    "\n",
    "file_path = 'data/fraud_data_cleaned.csv'\n",
    "\n",
    "\n",
    "## Importing the data\n",
    "def read_data():\n",
    "    try:\n",
    "        data = pd.read_csv(file_path)\n",
    "        return data\n",
    "    except:\n",
    "        print(\"Data path Not Found and the error is in Read Data Function.\")\n",
    "\n",
    "        \n",
    "## Data Prep Functions\n",
    "def data_prep(data, t):\n",
    "    try:\n",
    "        X = data[['Undergrad', 'City.Population', 'Work.Experience','Urban', 'Marital.Status_Divorced', 'Marital.Status_Married','Marital.Status_Single']]\n",
    "        y = data['Measure']\n",
    "        X_train,X_test,y_train,y_test = train_test_split(X,y, test_size= t)\n",
    "        return X_train, X_test, y_train, y_test\n",
    "    except:\n",
    "        print(\"The error is in the data_prep function.\")\n",
    "\n",
    "        \n",
    "### Random Forest Model\n",
    "\n",
    "def rf_classifier(X_train, y_train, X_test):\n",
    "    try:\n",
    "        # Create and fit the Random Forest classifier\n",
    "        rf_model = RandomForestClassifier(criterion='entropy', max_depth=5)\n",
    "        rf_model_fit = rf_model.fit(X_train, y_train)\n",
    "\n",
    "        # Make predictions on the test set\n",
    "        pred = rf_model_fit.predict(X_test)\n",
    "\n",
    "        # Return the trained model and predictions\n",
    "        return pred\n",
    "\n",
    "    except Exception as e:\n",
    "        print(f\"An error occurred in the rf_classifier function: {e}\")\n",
    "        return None, None  # You might want to handle the error more gracefully based on your use case\n",
    "\n",
    "\n",
    "        \n",
    "### Model diagonoistics function\n",
    "def model_diag(y_test, pred, p):\n",
    "    acc = accuracy_score(y_test, pred)\n",
    "    prc = precision_score(y_test, pred, pos_label = p)\n",
    "    clf = classification_report(y_test, pred)\n",
    "    conf = confusion_matrix(y_test, pred)\n",
    "    return acc, prc, clf, conf"
   ]
  },
  {
   "cell_type": "code",
   "execution_count": null,
   "id": "941eaeec",
   "metadata": {},
   "outputs": [],
   "source": []
  }
 ],
 "metadata": {
  "kernelspec": {
   "display_name": "Python 3 (ipykernel)",
   "language": "python",
   "name": "python3"
  },
  "language_info": {
   "codemirror_mode": {
    "name": "ipython",
    "version": 3
   },
   "file_extension": ".py",
   "mimetype": "text/x-python",
   "name": "python",
   "nbconvert_exporter": "python",
   "pygments_lexer": "ipython3",
   "version": "3.11.5"
  }
 },
 "nbformat": 4,
 "nbformat_minor": 5
}
