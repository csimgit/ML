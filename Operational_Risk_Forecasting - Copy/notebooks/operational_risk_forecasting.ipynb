{
 "cells": [
  {
   "cell_type": "code",
   "execution_count": 1,
   "id": "537b1c75-0c28-420e-9c99-2ac0c505fb7f",
   "metadata": {
    "scrolled": true
   },
   "outputs": [],
   "source": [
    "# Import libraries\n",
    "import pandas as pd\n",
    "import numpy as np\n",
    "import matplotlib.pyplot as plt\n",
    "from sklearn.preprocessing import OneHotEncoder, StandardScaler\n",
    "from sklearn.model_selection import train_test_split\n",
    "from sklearn.ensemble import RandomForestRegressor\n",
    "from statsmodels.tsa.arima.model import ARIMA\n",
    "\n",
    "\n"
   ]
  },
  {
   "cell_type": "code",
   "execution_count": 6,
   "id": "1d3e7cb7-106f-4bbf-9477-8afc7755bdb3",
   "metadata": {},
   "outputs": [],
   "source": [
    "# Load dataset\n",
    "df = pd.read_csv(r'..\\data\\operational_risk_data.csv', parse_dates=['Date'])\n",
    "df['Loss_Lag1'] = df['Operational_Losses'].shift(1)\n",
    "df = df.fillna(0)"
   ]
  },
  {
   "cell_type": "code",
   "execution_count": 7,
   "id": "e095c824-76d8-4f3d-bc8b-f3ed616089c3",
   "metadata": {},
   "outputs": [
    {
     "data": {
      "text/html": [
       "<div>\n",
       "<style scoped>\n",
       "    .dataframe tbody tr th:only-of-type {\n",
       "        vertical-align: middle;\n",
       "    }\n",
       "\n",
       "    .dataframe tbody tr th {\n",
       "        vertical-align: top;\n",
       "    }\n",
       "\n",
       "    .dataframe thead th {\n",
       "        text-align: right;\n",
       "    }\n",
       "</style>\n",
       "<table border=\"1\" class=\"dataframe\">\n",
       "  <thead>\n",
       "    <tr style=\"text-align: right;\">\n",
       "      <th></th>\n",
       "      <th>Date</th>\n",
       "      <th>Operational_Losses</th>\n",
       "      <th>Department</th>\n",
       "      <th>Event_Type</th>\n",
       "      <th>External_Factor</th>\n",
       "      <th>Loss_Lag1</th>\n",
       "    </tr>\n",
       "  </thead>\n",
       "  <tbody>\n",
       "    <tr>\n",
       "      <th>0</th>\n",
       "      <td>2024-01-01</td>\n",
       "      <td>12000</td>\n",
       "      <td>Finance</td>\n",
       "      <td>System Failure</td>\n",
       "      <td>0.5</td>\n",
       "      <td>0.0</td>\n",
       "    </tr>\n",
       "    <tr>\n",
       "      <th>1</th>\n",
       "      <td>2024-01-02</td>\n",
       "      <td>8000</td>\n",
       "      <td>IT</td>\n",
       "      <td>Fraud</td>\n",
       "      <td>0.6</td>\n",
       "      <td>12000.0</td>\n",
       "    </tr>\n",
       "    <tr>\n",
       "      <th>2</th>\n",
       "      <td>2024-01-03</td>\n",
       "      <td>5000</td>\n",
       "      <td>HR</td>\n",
       "      <td>Human Error</td>\n",
       "      <td>0.4</td>\n",
       "      <td>8000.0</td>\n",
       "    </tr>\n",
       "    <tr>\n",
       "      <th>3</th>\n",
       "      <td>2024-01-04</td>\n",
       "      <td>15000</td>\n",
       "      <td>Finance</td>\n",
       "      <td>System Failure</td>\n",
       "      <td>0.7</td>\n",
       "      <td>5000.0</td>\n",
       "    </tr>\n",
       "    <tr>\n",
       "      <th>4</th>\n",
       "      <td>2024-01-05</td>\n",
       "      <td>7000</td>\n",
       "      <td>IT</td>\n",
       "      <td>Fraud</td>\n",
       "      <td>0.5</td>\n",
       "      <td>15000.0</td>\n",
       "    </tr>\n",
       "    <tr>\n",
       "      <th>5</th>\n",
       "      <td>2024-01-06</td>\n",
       "      <td>9000</td>\n",
       "      <td>HR</td>\n",
       "      <td>Human Error</td>\n",
       "      <td>0.4</td>\n",
       "      <td>7000.0</td>\n",
       "    </tr>\n",
       "    <tr>\n",
       "      <th>6</th>\n",
       "      <td>2024-01-07</td>\n",
       "      <td>13000</td>\n",
       "      <td>Finance</td>\n",
       "      <td>System Failure</td>\n",
       "      <td>0.6</td>\n",
       "      <td>9000.0</td>\n",
       "    </tr>\n",
       "    <tr>\n",
       "      <th>7</th>\n",
       "      <td>2024-01-08</td>\n",
       "      <td>6000</td>\n",
       "      <td>IT</td>\n",
       "      <td>Fraud</td>\n",
       "      <td>0.5</td>\n",
       "      <td>13000.0</td>\n",
       "    </tr>\n",
       "    <tr>\n",
       "      <th>8</th>\n",
       "      <td>2024-01-09</td>\n",
       "      <td>4000</td>\n",
       "      <td>HR</td>\n",
       "      <td>Human Error</td>\n",
       "      <td>0.3</td>\n",
       "      <td>6000.0</td>\n",
       "    </tr>\n",
       "    <tr>\n",
       "      <th>9</th>\n",
       "      <td>2024-01-10</td>\n",
       "      <td>16000</td>\n",
       "      <td>Finance</td>\n",
       "      <td>System Failure</td>\n",
       "      <td>0.8</td>\n",
       "      <td>4000.0</td>\n",
       "    </tr>\n",
       "  </tbody>\n",
       "</table>\n",
       "</div>"
      ],
      "text/plain": [
       "        Date  Operational_Losses Department      Event_Type  External_Factor  \\\n",
       "0 2024-01-01               12000    Finance  System Failure              0.5   \n",
       "1 2024-01-02                8000         IT           Fraud              0.6   \n",
       "2 2024-01-03                5000         HR     Human Error              0.4   \n",
       "3 2024-01-04               15000    Finance  System Failure              0.7   \n",
       "4 2024-01-05                7000         IT           Fraud              0.5   \n",
       "5 2024-01-06                9000         HR     Human Error              0.4   \n",
       "6 2024-01-07               13000    Finance  System Failure              0.6   \n",
       "7 2024-01-08                6000         IT           Fraud              0.5   \n",
       "8 2024-01-09                4000         HR     Human Error              0.3   \n",
       "9 2024-01-10               16000    Finance  System Failure              0.8   \n",
       "\n",
       "   Loss_Lag1  \n",
       "0        0.0  \n",
       "1    12000.0  \n",
       "2     8000.0  \n",
       "3     5000.0  \n",
       "4    15000.0  \n",
       "5     7000.0  \n",
       "6     9000.0  \n",
       "7    13000.0  \n",
       "8     6000.0  \n",
       "9     4000.0  "
      ]
     },
     "execution_count": 7,
     "metadata": {},
     "output_type": "execute_result"
    }
   ],
   "source": [
    "df"
   ]
  },
  {
   "cell_type": "code",
   "execution_count": 8,
   "id": "d521fc36-4a85-4ecc-80ff-224ba02a0e20",
   "metadata": {},
   "outputs": [],
   "source": [
    "\n",
    "# One-hot encoding\n",
    "df = pd.get_dummies(df, columns=['Department','Event_Type'], drop_first=True)\n",
    "\n"
   ]
  },
  {
   "cell_type": "code",
   "execution_count": 9,
   "id": "55f4c604-55aa-4f7a-b75a-05126a134f37",
   "metadata": {},
   "outputs": [],
   "source": [
    "# Train-test split\n",
    "features = [col for col in df.columns if col not in ['Date','Operational_Losses']]\n",
    "X = df[features]\n",
    "y = df['Operational_Losses']\n",
    "X_train, X_test, y_train, y_test = train_test_split(X, y, test_size=0.2, shuffle=False)\n"
   ]
  },
  {
   "cell_type": "code",
   "execution_count": 10,
   "id": "e544576e-887a-450b-abbf-b8903bd9e3c8",
   "metadata": {},
   "outputs": [],
   "source": [
    "\n",
    "# Random Forest Model\n",
    "rf = RandomForestRegressor(n_estimators=100, random_state=42)\n",
    "rf.fit(X_train, y_train)\n",
    "y_pred = rf.predict(X_test)\n",
    "\n"
   ]
  },
  {
   "cell_type": "code",
   "execution_count": 11,
   "id": "b9e37a41-082e-451b-8cc5-5c5f07026910",
   "metadata": {},
   "outputs": [
    {
     "data": {
      "image/png": "[encoded data removed]",
      "text/plain": [
       "<Figure size 640x480 with 1 Axes>"
      ]
     },
     "metadata": {},
     "output_type": "display_data"
    }
   ],
   "source": [
    "# Plot Actual vs Predicted\n",
    "plt.plot(df['Date'], df['Operational_Losses'], label='Actual')\n",
    "plt.plot(df['Date'].iloc[-len(y_test):], y_pred, label='Predicted')\n",
    "plt.legend()\n",
    "plt.show()\n"
   ]
  },
  {
   "cell_type": "code",
   "execution_count": 12,
   "id": "b06b3fe7-8248-498b-877b-b7b4dae85abe",
   "metadata": {},
   "outputs": [
    {
     "name": "stdout",
     "output_type": "stream",
     "text": [
      "Next 5-day forecast: 10     4997.824801\n",
      "11     6608.725177\n",
      "12    14081.269981\n",
      "13     4848.547667\n",
      "14     8366.124756\n",
      "Name: predicted_mean, dtype: float64\n"
     ]
    },
    {
     "name": "stderr",
     "output_type": "stream",
     "text": [
      "C:\\Users\\simra\\AppData\\Local\\Programs\\Python\\Python39\\lib\\site-packages\\statsmodels\\tsa\\statespace\\sarimax.py:966: UserWarning: Non-stationary starting autoregressive parameters found. Using zeros as starting parameters.\n",
      "  warn('Non-stationary starting autoregressive parameters'\n"
     ]
    }
   ],
   "source": [
    "\n",
    "# ARIMA Forecast\n",
    "arima_model = ARIMA(df['Operational_Losses'], order=(2,1,0))\n",
    "arima_fit = arima_model.fit()\n",
    "forecast = arima_fit.forecast(steps=5)\n",
    "print(\"Next 5-day forecast:\", forecast)"
   ]
  },
  {
   "cell_type": "code",
   "execution_count": null,
   "id": "0bcd2981-1a51-44ec-ac9c-696e3df2538a",
   "metadata": {},
   "outputs": [],
   "source": []
  }
 ],
 "metadata": {
  "kernelspec": {
   "display_name": "Python 3 (ipykernel)",
   "language": "python",
   "name": "python3"
  },
  "language_info": {
   "codemirror_mode": {
    "name": "ipython",
    "version": 3
   },
   "file_extension": ".py",
   "mimetype": "text/x-python",
   "name": "python",
   "nbconvert_exporter": "python",
   "pygments_lexer": "ipython3",
   "version": "3.9.0"
  }
 },
 "nbformat": 4,
 "nbformat_minor": 5
}
