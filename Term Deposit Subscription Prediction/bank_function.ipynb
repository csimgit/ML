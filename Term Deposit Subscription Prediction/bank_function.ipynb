{
 "cells": [
  {
   "cell_type": "code",
   "execution_count": 3,
   "id": "e258b174",
   "metadata": {},
   "outputs": [
    {
     "name": "stdout",
     "output_type": "stream",
     "text": [
      "CPU times: total: 0 ns\n",
      "Wall time: 0 ns\n"
     ]
    }
   ],
   "source": [
    "%%time\n",
    "## Importing the libraries\n",
    "import warnings\n",
    "warnings.filterwarnings('ignore')\n",
    "import pandas as pd\n",
    "import numpy as np\n",
    "import seaborn as sns\n",
    "from matplotlib import pyplot as plt\n",
    "import time\n",
    "from sklearn.linear_model import LogisticRegression\n",
    "from sklearn.preprocessing import StandardScaler\n",
    "from sklearn.model_selection import train_test_split\n",
    "from sklearn.metrics import accuracy_score, confusion_matrix, classification_report,precision_score\n",
    "\n",
    "\n",
    "## Importing the data\n",
    "def read_data(path):\n",
    "    try:\n",
    "        data = pd.read_csv(path)\n",
    "        return data\n",
    "    except:\n",
    "        print(\"Data path Not Found and the error is in Read Data Function.\")\n",
    "\n",
    "        \n",
    "## Data Prep Functions\n",
    "def data_prep(data,t):\n",
    "    try:\n",
    "        X = data[['age', 'default', 'housing', 'loan', 'job_admin.', 'job_blue-collar', 'job_entrepreneur', 'job_housemaid',\n",
    "                   'job_management', 'job_retired', 'job_self-employed', 'job_services', 'job_student', 'job_technician',\n",
    "                   'job_unemployed', 'job_unknown', 'marital_divorced', 'marital_married', 'marital_single',\n",
    "                   'education_primary', 'education_secondary', 'education_tertiary', 'education_unknown', 'contact_cellular',\n",
    "                   'contact_telephone', 'contact_unknown', 'month_apr', 'month_aug', 'month_dec', 'month_feb', 'month_jan',\n",
    "                   'month_jul', 'month_jun', 'month_mar', 'month_may', 'month_nov', 'month_oct', 'month_sep', 'poutcome_failure',\n",
    "                   'poutcome_other', 'poutcome_success', 'poutcome_unknown']]\n",
    "\n",
    "        y = data['y']\n",
    "        X_train, X_test, y_train, y_test = train_test_split(X, y, test_size=t, stratify=y, random_state=1234)\n",
    "\n",
    "        if X_train is not None and X_test is not None and y_train is not None and y_test is not None:\n",
    "            return X_train, X_test, y_train, y_test\n",
    "        else:\n",
    "            raise ValueError(\"train_test_split returned None\")\n",
    "\n",
    "    except Exception as e:\n",
    "        print(f\"The error is in the data_prep function: {e}\")\n",
    "\n",
    "        \n",
    "## Logistic Regression Call function\n",
    "def log_model(X_train,y_train,X_test):\n",
    "    try:\n",
    "        log_model = LogisticRegression(max_iter=1000)\n",
    "        log_model_fit = log_model.fit(X_train,y_train)\n",
    "        pred = log_model_fit.predict(X_test)\n",
    "        return pred\n",
    "    except:\n",
    "        print(\"The error is in the log_model function.\")\n",
    "        \n",
    "\n",
    "### Model diagonoistics function\n",
    "def model_diag(y_test,pred):\n",
    "    acc = accuracy_score(y_test,pred)\n",
    "    prc = precision_score(y_test,pred)\n",
    "    clf = classification_report(y_test,pred)\n",
    "    conf = confusion_matrix(y_test,pred)\n",
    "    return acc, prc,clf,conf"
   ]
  },
  {
   "cell_type": "code",
   "execution_count": null,
   "id": "941eaeec",
   "metadata": {},
   "outputs": [],
   "source": []
  }
 ],
 "metadata": {
  "kernelspec": {
   "display_name": "Python 3 (ipykernel)",
   "language": "python",
   "name": "python3"
  },
  "language_info": {
   "codemirror_mode": {
    "name": "ipython",
    "version": 3
   },
   "file_extension": ".py",
   "mimetype": "text/x-python",
   "name": "python",
   "nbconvert_exporter": "python",
   "pygments_lexer": "ipython3",
   "version": "3.11.5"
  }
 },
 "nbformat": 4,
 "nbformat_minor": 5
}
