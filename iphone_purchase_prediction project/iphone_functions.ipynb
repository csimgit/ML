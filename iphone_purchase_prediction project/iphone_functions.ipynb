{
 "cells": [
  {
   "cell_type": "code",
   "execution_count": 43,
   "id": "bc7f08f0",
   "metadata": {},
   "outputs": [
    {
     "name": "stdout",
     "output_type": "stream",
     "text": [
      "CPU times: total: 0 ns\n",
      "Wall time: 0 ns\n"
     ]
    }
   ],
   "source": [
    "%%time\n",
    "import pandas as pd\n",
    "import numpy as np\n",
    "import seaborn as sns\n",
    "import matplotlib.pyplot as plt\n",
    "import time\n",
    "from sklearn.model_selection import train_test_split\n",
    "from sklearn.neighbors import KNeighborsClassifier\n",
    "from sklearn.linear_model import LogisticRegression,LinearRegression\n",
    "from sklearn.tree import DecisionTreeClassifier\n",
    "from sklearn.ensemble import RandomForestClassifier\n",
    "from sklearn.metrics import accuracy_score, confusion_matrix, classification_report,precision_score\n",
    "import joblib\n",
    "\n",
    "\n",
    "### Importing data\n",
    "def read_data(path):\n",
    "    try:\n",
    "        data = pd.read_csv(path)\n",
    "        return data\n",
    "    except Exception as e:\n",
    "        print(\"Data path Not Found and the error is in Read Data Function\")\n",
    "\n",
    "        \n",
    "### Data Prep Functions\n",
    "def data_prep(data, t):\n",
    "    X = df[['Age', 'Salary', 'Female', 'Male']]\n",
    "    y = df[ 'Purchase Iphone']\n",
    "    X_train, X_test, y_train, y_test = train_test_split(X, y, test_size=t, stratify=y, random_state=365)\n",
    "    return X_train, X_test, y_train, y_test\n",
    "\n",
    "\n",
    "### Decision Tree model call function\n",
    "def decision_tree(X_train,y_train,X_test):\n",
    "    dt_model = DecisionTreeClassifier(criterion='entropy',max_depth =5)\n",
    "    dt_model_fit = dt_model.fit(X_train,y_train)\n",
    "    pred = dt_model_fit.predict(X_test)\n",
    "    return pred\n",
    "\n",
    "# KNeighborsClassifier Model\n",
    "def kn_classifier(X_train,y_train,X_test):\n",
    "    knc_model = KNeighborsClassifier(n_neighbors=15)\n",
    "    knc_model_fit = knc_model.fit(X_train,y_train)\n",
    "    pred1 = knc_model_fit.predict(X_test)\n",
    "    return pred1\n",
    "\n",
    "### Random\n",
    "def rf_classifier(X_train,y_train,X_test):\n",
    "    rf_model = RandomForestClassifier(criterion='entropy',max_depth =5)\n",
    "    rf_model_fit = rf_model.fit(X_train,y_train)\n",
    "    pred2 = rf_model_fit.predict(X_test)\n",
    "    return pred2\n",
    "\n",
    "\n",
    "### Model diagonoistics function\n",
    "def model_log_diag(y_test,pred):\n",
    "    acc = accuracy_score(y_test,pred)\n",
    "    prc = precision_score(y_test,pred)\n",
    "    clf = classification_report(y_test,pred)\n",
    "    conf = confusion_matrix(y_test,pred)\n",
    "    return acc, prc,clf,conf\n",
    "\n"
   ]
  },
  {
   "cell_type": "code",
   "execution_count": null,
   "id": "d3f3a3dd",
   "metadata": {},
   "outputs": [],
   "source": []
  }
 ],
 "metadata": {
  "kernelspec": {
   "display_name": "Python 3 (ipykernel)",
   "language": "python",
   "name": "python3"
  },
  "language_info": {
   "codemirror_mode": {
    "name": "ipython",
    "version": 3
   },
   "file_extension": ".py",
   "mimetype": "text/x-python",
   "name": "python",
   "nbconvert_exporter": "python",
   "pygments_lexer": "ipython3",
   "version": "3.10.7"
  }
 },
 "nbformat": 4,
 "nbformat_minor": 5
}
